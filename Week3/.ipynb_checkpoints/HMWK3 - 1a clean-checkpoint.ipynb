{
 "cells": [
  {
   "cell_type": "markdown",
   "metadata": {},
   "source": [
    "# Homework Week 3"
   ]
  },
  {
   "cell_type": "markdown",
   "metadata": {},
   "source": [
    "## Problem Statement"
   ]
  },
  {
   "cell_type": "markdown",
   "metadata": {},
   "source": [
    "### Please find out concrete volumes (in cuyd) for each project."
   ]
  },
  {
   "cell_type": "markdown",
   "metadata": {},
   "source": [
    "#### Import Libraries"
   ]
  },
  {
   "cell_type": "code",
   "execution_count": 41,
   "metadata": {},
   "outputs": [],
   "source": [
    "import numpy as np\n",
    "import pandas as pd\n",
    "import math as m"
   ]
  },
  {
   "cell_type": "markdown",
   "metadata": {},
   "source": [
    "#### Read in quantities csv file"
   ]
  },
  {
   "cell_type": "code",
   "execution_count": 42,
   "metadata": {},
   "outputs": [],
   "source": [
    "df = pd.read_csv(\"Quantities_Revit.csv\", usecols=['Project Name','Material Volume','Material Name'])"
   ]
  },
  {
   "cell_type": "code",
   "execution_count": 43,
   "metadata": {},
   "outputs": [],
   "source": [
    "# determine unique materials so I can grab only the concrete elements\n",
    "df_conc_only = df['Material Name'].unique()"
   ]
  },
  {
   "cell_type": "code",
   "execution_count": 44,
   "metadata": {},
   "outputs": [],
   "source": [
    "df_conc = df[df['Material Name'].str.contains('Concrete')]"
   ]
  },
  {
   "cell_type": "code",
   "execution_count": 45,
   "metadata": {},
   "outputs": [
    {
     "data": {
      "text/html": [
       "<div>\n",
       "<style scoped>\n",
       "    .dataframe tbody tr th:only-of-type {\n",
       "        vertical-align: middle;\n",
       "    }\n",
       "\n",
       "    .dataframe tbody tr th {\n",
       "        vertical-align: top;\n",
       "    }\n",
       "\n",
       "    .dataframe thead th {\n",
       "        text-align: right;\n",
       "    }\n",
       "</style>\n",
       "<table border=\"1\" class=\"dataframe\">\n",
       "  <thead>\n",
       "    <tr style=\"text-align: right;\">\n",
       "      <th></th>\n",
       "      <th>Material Volume</th>\n",
       "    </tr>\n",
       "    <tr>\n",
       "      <th>Project Name</th>\n",
       "      <th></th>\n",
       "    </tr>\n",
       "  </thead>\n",
       "  <tbody>\n",
       "    <tr>\n",
       "      <th>Newark Airtrain</th>\n",
       "      <td>51,341</td>\n",
       "    </tr>\n",
       "    <tr>\n",
       "      <th>Bradley</th>\n",
       "      <td>8,388</td>\n",
       "    </tr>\n",
       "    <tr>\n",
       "      <th>Loudoun County Garage</th>\n",
       "      <td>12,016</td>\n",
       "    </tr>\n",
       "    <tr>\n",
       "      <th>New Orleans - Roof</th>\n",
       "      <td>3,856</td>\n",
       "    </tr>\n",
       "    <tr>\n",
       "      <th>New Orleans - Structure</th>\n",
       "      <td>15,867</td>\n",
       "    </tr>\n",
       "    <tr>\n",
       "      <th>ODU</th>\n",
       "      <td>2,112</td>\n",
       "    </tr>\n",
       "    <tr>\n",
       "      <th>St James</th>\n",
       "      <td>13,565</td>\n",
       "    </tr>\n",
       "    <tr>\n",
       "      <th>UVA</th>\n",
       "      <td>26,334</td>\n",
       "    </tr>\n",
       "    <tr>\n",
       "      <th>VCU</th>\n",
       "      <td>39,166</td>\n",
       "    </tr>\n",
       "    <tr>\n",
       "      <th>VHC</th>\n",
       "      <td>7,650</td>\n",
       "    </tr>\n",
       "  </tbody>\n",
       "</table>\n",
       "</div>"
      ],
      "text/plain": [
       "                         Material Volume\n",
       "Project Name                            \n",
       " Newark Airtrain                  51,341\n",
       "Bradley                            8,388\n",
       "Loudoun County Garage             12,016\n",
       "New Orleans - Roof                 3,856\n",
       "New Orleans - Structure           15,867\n",
       "ODU                                2,112\n",
       "St James                          13,565\n",
       "UVA                               26,334\n",
       "VCU                               39,166\n",
       "VHC                                7,650"
      ]
     },
     "execution_count": 45,
     "metadata": {},
     "output_type": "execute_result"
    }
   ],
   "source": [
    "df_conc_sums = df_conc.groupby(['Project Name']).sum()\n",
    "df_conc_sums['Material Volume'] /= 27\n",
    "pd.options.display.float_format = '{:,.0f}'.format\n",
    "df_conc_sums"
   ]
  },
  {
   "cell_type": "code",
   "execution_count": null,
   "metadata": {},
   "outputs": [],
   "source": []
  }
 ],
 "metadata": {
  "kernelspec": {
   "display_name": "Python 3",
   "language": "python",
   "name": "python3"
  },
  "language_info": {
   "codemirror_mode": {
    "name": "ipython",
    "version": 3
   },
   "file_extension": ".py",
   "mimetype": "text/x-python",
   "name": "python",
   "nbconvert_exporter": "python",
   "pygments_lexer": "ipython3",
   "version": "3.9.1"
  }
 },
 "nbformat": 4,
 "nbformat_minor": 4
}
