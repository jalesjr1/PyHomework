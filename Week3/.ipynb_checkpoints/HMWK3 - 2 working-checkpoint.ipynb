{
 "cells": [
  {
   "cell_type": "markdown",
   "metadata": {},
   "source": [
    "# Homework Week 3"
   ]
  },
  {
   "cell_type": "markdown",
   "metadata": {},
   "source": [
    "## Problem Statement 1"
   ]
  },
  {
   "cell_type": "markdown",
   "metadata": {},
   "source": [
    "### Please find out concrete volumes (in cuyd) for each project."
   ]
  },
  {
   "cell_type": "code",
   "execution_count": 1,
   "metadata": {},
   "outputs": [],
   "source": [
    "from openpyxl import load_workbook\n",
    "import pandas as pd\n",
    "pd.set_option('display.max_rows', None)"
   ]
  },
  {
   "cell_type": "code",
   "execution_count": 2,
   "metadata": {},
   "outputs": [],
   "source": [
    "# load workbook into dataframe\n",
    "wb = load_workbook('week3_exercise.xlsx')\n",
    "ws = wb['quantities']\n",
    "data = ws.values\n",
    "columns = next(data)[0:]\n",
    "df = pd.DataFrame(data, columns=columns)"
   ]
  },
  {
   "cell_type": "code",
   "execution_count": 3,
   "metadata": {},
   "outputs": [],
   "source": [
    "df_conc = df[df['Material'].str.contains('Psi')]"
   ]
  },
  {
   "cell_type": "code",
   "execution_count": 5,
   "metadata": {},
   "outputs": [
    {
     "data": {
      "text/html": [
       "<div>\n",
       "<style scoped>\n",
       "    .dataframe tbody tr th:only-of-type {\n",
       "        vertical-align: middle;\n",
       "    }\n",
       "\n",
       "    .dataframe tbody tr th {\n",
       "        vertical-align: top;\n",
       "    }\n",
       "\n",
       "    .dataframe thead th {\n",
       "        text-align: right;\n",
       "    }\n",
       "</style>\n",
       "<table border=\"1\" class=\"dataframe\">\n",
       "  <thead>\n",
       "    <tr style=\"text-align: right;\">\n",
       "      <th></th>\n",
       "      <th>Volume</th>\n",
       "    </tr>\n",
       "    <tr>\n",
       "      <th>Project Name</th>\n",
       "      <th></th>\n",
       "    </tr>\n",
       "  </thead>\n",
       "  <tbody>\n",
       "    <tr>\n",
       "      <th>Bradley_CSB</th>\n",
       "      <td>0</td>\n",
       "    </tr>\n",
       "    <tr>\n",
       "      <th>Bradley_Helixramp_1</th>\n",
       "      <td>669</td>\n",
       "    </tr>\n",
       "    <tr>\n",
       "      <th>Bradley_Helixramp_2</th>\n",
       "      <td>876</td>\n",
       "    </tr>\n",
       "    <tr>\n",
       "      <th>Bradley_QTA_East_Garage</th>\n",
       "      <td>7,055</td>\n",
       "    </tr>\n",
       "    <tr>\n",
       "      <th>Bradley_QTA_West_Garage</th>\n",
       "      <td>8,927</td>\n",
       "    </tr>\n",
       "    <tr>\n",
       "      <th>Bradley_Ready_Return_East_Garage</th>\n",
       "      <td>16,337</td>\n",
       "    </tr>\n",
       "    <tr>\n",
       "      <th>Bradley_Ready_Return_West_Garage</th>\n",
       "      <td>13,620</td>\n",
       "    </tr>\n",
       "    <tr>\n",
       "      <th>CFC_EDU</th>\n",
       "      <td>260</td>\n",
       "    </tr>\n",
       "    <tr>\n",
       "      <th>CFC_WORSHIP</th>\n",
       "      <td>16</td>\n",
       "    </tr>\n",
       "    <tr>\n",
       "      <th>LGH</th>\n",
       "      <td>4,205</td>\n",
       "    </tr>\n",
       "    <tr>\n",
       "      <th>Loudoun County Garage</th>\n",
       "      <td>23,157</td>\n",
       "    </tr>\n",
       "    <tr>\n",
       "      <th>New-Orleans_Concourse_B</th>\n",
       "      <td>70</td>\n",
       "    </tr>\n",
       "    <tr>\n",
       "      <th>ODU</th>\n",
       "      <td>1,493</td>\n",
       "    </tr>\n",
       "    <tr>\n",
       "      <th>S0112002_New-Orleans_Concourse_C</th>\n",
       "      <td>70</td>\n",
       "    </tr>\n",
       "    <tr>\n",
       "      <th>St.James_Court_House</th>\n",
       "      <td>3,817</td>\n",
       "    </tr>\n",
       "    <tr>\n",
       "      <th>St.James_Front_Bar_GM</th>\n",
       "      <td>446</td>\n",
       "    </tr>\n",
       "    <tr>\n",
       "      <th>St.James_Front_Bar_HC</th>\n",
       "      <td>837</td>\n",
       "    </tr>\n",
       "    <tr>\n",
       "      <th>St.James_Pool_House</th>\n",
       "      <td>2,262</td>\n",
       "    </tr>\n",
       "    <tr>\n",
       "      <th>St.James_Spine_Corridor</th>\n",
       "      <td>249</td>\n",
       "    </tr>\n",
       "    <tr>\n",
       "      <th>UVA</th>\n",
       "      <td>2,495</td>\n",
       "    </tr>\n",
       "    <tr>\n",
       "      <th>VHC</th>\n",
       "      <td>9,146</td>\n",
       "    </tr>\n",
       "  </tbody>\n",
       "</table>\n",
       "</div>"
      ],
      "text/plain": [
       "                                  Volume\n",
       "Project Name                            \n",
       "Bradley_CSB                            0\n",
       "Bradley_Helixramp_1                  669\n",
       "Bradley_Helixramp_2                  876\n",
       "Bradley_QTA_East_Garage            7,055\n",
       "Bradley_QTA_West_Garage            8,927\n",
       "Bradley_Ready_Return_East_Garage  16,337\n",
       "Bradley_Ready_Return_West_Garage  13,620\n",
       "CFC_EDU                              260\n",
       "CFC_WORSHIP                           16\n",
       "LGH                                4,205\n",
       "Loudoun County Garage             23,157\n",
       "New-Orleans_Concourse_B               70\n",
       "ODU                                1,493\n",
       "S0112002_New-Orleans_Concourse_C      70\n",
       "St.James_Court_House               3,817\n",
       "St.James_Front_Bar_GM                446\n",
       "St.James_Front_Bar_HC                837\n",
       "St.James_Pool_House                2,262\n",
       "St.James_Spine_Corridor              249\n",
       "UVA                                2,495\n",
       "VHC                                9,146"
      ]
     },
     "execution_count": 5,
     "metadata": {},
     "output_type": "execute_result"
    }
   ],
   "source": [
    "df_conc_sums = df_conc.groupby(['Project Name']).sum()\n",
    "df_conc_sums['Weight'] /= 4.05\n",
    "df_conc_sums.rename(columns={\"Weight\":\"Volume\"}, inplace = True)\n",
    "pd.options.display.float_format = '{:,.0f}'.format\n",
    "df_conc_sums.drop(columns = ['Analysis Floor Area','Unit Weight','Number Pieces','Number Studs'])"
   ]
  },
  {
   "cell_type": "code",
   "execution_count": null,
   "metadata": {},
   "outputs": [],
   "source": []
  }
 ],
 "metadata": {
  "kernelspec": {
   "display_name": "Python 3",
   "language": "python",
   "name": "python3"
  },
  "language_info": {
   "codemirror_mode": {
    "name": "ipython",
    "version": 3
   },
   "file_extension": ".py",
   "mimetype": "text/x-python",
   "name": "python",
   "nbconvert_exporter": "python",
   "pygments_lexer": "ipython3",
   "version": "3.9.1"
  }
 },
 "nbformat": 4,
 "nbformat_minor": 4
}
